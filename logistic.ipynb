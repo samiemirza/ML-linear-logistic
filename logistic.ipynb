{
 "cells": [
  {
   "cell_type": "markdown",
   "id": "31be63a5-d870-4a2c-986b-133f475fe22c",
   "metadata": {},
   "source": [
    "# Problem Background: The Great Migration\n",
    "\n",
    "In our ongoing efforts to ensure the safety of the migration to Earth Junior, we have developed a linear regression model that produces a human-zombie score ranging from 0 to 100. This score is designed to assess the likelihood of individuals being human or zombie based on various features collected during screening.\n",
    "\n",
    "To enhance our security measures, the spaceship station has deployed a specialized automated barrier system that utilizes the human-zombie scores to classify individuals into three distinct categories:\n",
    "\n",
    "- **Class 0: Score Range 0-33**: **Most Likely Human**  \n",
    "  Individuals in this range will be directed straight to the spaceship for immediate boarding.\n",
    "\n",
    "- **Class 1: Score Range 33-66**: **Need Further Tests**  \n",
    "  Those with scores in this range will be redirected to a testing facility for additional examinations to confirm their identity. They will be quarantined for a two-week observational period to ensure they do not pose a risk.\n",
    "\n",
    "- **Class 3: Score Range 66-100**: **Most Likely Zombies**  \n",
    "  Those scoring in this highest range will be denied entry to the spaceship, as they are deemed a significant threat to the safety of the remaining human population.\n",
    "\n",
    "This classification system aims to maximize the chances of a successful migration while ensuring that the risk of zombie infiltration is minimized.\n"
   ]
  },
  {
   "cell_type": "markdown",
   "id": "03373c37",
   "metadata": {
    "id": "03373c37"
   },
   "source": [
    "# Logistic Regression \n"
   ]
  },
  {
   "cell_type": "markdown",
   "id": "7a9dcc17-bd78-42a6-bf52-044df6c543bf",
   "metadata": {},
   "source": [
    "<center>\n",
    "  <img src = \"https://miro.medium.com/v2/resize:fit:1100/format:webp/1*RElrybCZ4WPsUfRwDl7fqA.png\">\n",
    "</center>\n",
    "\n",
    "One vs All (OvA) is a common technique to extend binary classifiers, like logistic regression, to handle multiclass classification tasks. For each class in the dataset, a logistic regression model is trained to distinguish that class from all other classes. For instance, for a `m` class classification, we will have `m` logistic regression classifiers in our pipeline. When making a prediction, each model outputs a probability that the instance belongs to its target class. The class with the highest probability across all models is chosen as the final prediction.\n",
    "\n"
   ]
  },
  {
   "cell_type": "markdown",
   "id": "74f4e279-4c7c-4b6c-a208-e5b607b41863",
   "metadata": {},
   "source": [
    "## Import Libraries"
   ]
  },
  {
   "cell_type": "code",
   "execution_count": 16,
   "id": "e61d1099-bde3-45aa-8d1d-5bfa6b169ecd",
   "metadata": {},
   "outputs": [],
   "source": [
    "import numpy as np\n",
    "import pandas as pd\n",
    "import matplotlib.pyplot as plt\n",
    "import seaborn as sns\n",
    "from sklearn.model_selection import train_test_split\n",
    "from sklearn.metrics import accuracy_score, f1_score, confusion_matrix, classification_report\n",
    "# from sklearn import stdscaler"
   ]
  },
  {
   "cell_type": "markdown",
   "id": "b5216e2a",
   "metadata": {
    "id": "b5216e2a",
    "tags": [
     "parameters"
    ]
   },
   "source": [
    "#### Dataset\n",
    "\n"
   ]
  },
  {
   "cell_type": "code",
   "execution_count": 17,
   "id": "c6ec0d6e",
   "metadata": {
    "id": "c6ec0d6e"
   },
   "outputs": [],
   "source": [
    "df = pd.read_csv('human_zombie_dataset_v5.csv')\n",
    "\n",
    "x = df.drop('Human-Zombie Score', axis=1)     "
   ]
  },
  {
   "cell_type": "markdown",
   "id": "66384c63",
   "metadata": {
    "id": "66384c63"
   },
   "source": [
    "## Preprocessing  \n",
    "\n",
    "\n",
    "1. **Transform Labels**:  \n",
    "   Convert the labels from continuous scores to categorical labels based on the class descriptions provided earlier.  \n",
    "\n",
    "2. **Perform Train-Test Split**:  \n",
    "   Split the dataset into training and testing sets (8:2), and then check the sizes of both.  \n",
    "   This step ensures that you have the right distribution of data for training and evaluation. \n",
    "\n",
    "3. **Normalize Data**:  \n",
    "   Utilize the `Scaler` class to normalise data\n"
   ]
  },
  {
   "cell_type": "code",
   "execution_count": 18,
   "id": "d8fe2f33",
   "metadata": {
    "id": "d8fe2f33"
   },
   "outputs": [],
   "source": [
    "divisions = [0, 33, 66, 100]  # The bin edges for each class\n",
    "labels = [0, 1, 2]  # Class labels: 0 (Human), 1 (Need Further Tests), 2 (Zombie)\n",
    "\n",
    "# Create categorical labels using pd.cut\n",
    "df['class_label'] = pd.cut(df['Human-Zombie Score'], bins=divisions, labels=labels, include_lowest=True)\n",
    "\n",
    "y = df['class_label']\n"
   ]
  },
  {
   "cell_type": "code",
   "execution_count": 19,
   "id": "43b474ff",
   "metadata": {
    "id": "43b474ff"
   },
   "outputs": [
    {
     "name": "stdout",
     "output_type": "stream",
     "text": [
      "Training data shape: (800, 6)\n",
      "Test data shape: (200, 6)\n",
      "Training labels shape: (800,)\n",
      "Test labels shape: (200,)\n"
     ]
    }
   ],
   "source": [
    "# Train Test Split\n",
    "x_train, x_test, y_train, y_test = train_test_split(x, y, test_size=0.2, random_state=42)\n",
    "\n",
    "print(\"Training data shape:\", x_train.shape)\n",
    "print(\"Test data shape:\", x_test.shape)\n",
    "print(\"Training labels shape:\", y_train.shape)\n",
    "print(\"Test labels shape:\", y_test.shape)"
   ]
  },
  {
   "cell_type": "code",
   "execution_count": 20,
   "id": "b4cc36c8-2ab1-4a0f-b599-2bc297084cb0",
   "metadata": {},
   "outputs": [],
   "source": [
    "# Normalize\n",
    "class Scaler:\n",
    "    def __init__(self):\n",
    "        self.means = None\n",
    "        self.stds = None\n",
    "    \n",
    "    def fit(self, x):\n",
    "        self.means = x.mean(axis=0)\n",
    "        self.stds = x.std(axis=0)\n",
    "    \n",
    "    def transform(self, x):\n",
    "        centered_data = x - self.means\n",
    "        scaled_data = centered_data / self.stds\n",
    "        return scaled_data\n",
    "\n",
    "# Instantiate and apply the scaler\n",
    "scaler = Scaler()\n",
    "\n",
    "# Normalize the training and test data\n",
    "scaler.fit(x_train)  \n",
    "x_train_normalised = scaler.transform(x_train) \n",
    "x_test_normalised = scaler.transform(x_test)   \n",
    "y_train = np.array(y_train).flatten()\n",
    "y_test = np.array(y_test).flatten()"
   ]
  },
  {
   "cell_type": "markdown",
   "id": "331017de",
   "metadata": {
    "id": "331017de"
   },
   "source": [
    "## Part A: Implementation from Scratch \n",
    "\n",
    "We will create a class, and implement the functionality described below to create a fully fledged **Regularized Logistic Regression model.**\n",
    "\n",
    "* `sigmoid(x)`: This is the non-linear \"activation\" function that differentiates Logistic from plain-old Linear Regression. Refer to the formula from the slides.\n",
    "\n",
    "* `cross_entropy_loss(y_true, y_pred)`: This is the loss function that will help you calculate the gradients for updating your model. \n",
    "\n",
    "* `fit(x_train, y_train)`: This will be where we implement the Gradient Descent algorithm\n",
    "\n",
    "* `predict(x_test)`: predict whether the label is 0 or 1 for test reviews using learned logistic regression (use the decision threshold of 0.5) \n",
    "\n",
    "* `evaluate(y_true, y_pred)` function that calculates classification accuracy, F1 Score and confusion matrix. "
   ]
  },
  {
   "cell_type": "code",
   "execution_count": 21,
   "id": "794011ae",
   "metadata": {
    "id": "794011ae"
   },
   "outputs": [],
   "source": [
    "\n",
    "\n",
    "class Logistic_Regression():\n",
    "    def __init__(self, learning_rate, epochs):\n",
    "        self.learning_rate = learning_rate\n",
    "        self.epochs = epochs\n",
    "        self.features = None\n",
    "        self.weights = None\n",
    "        self.loss_history = []\n",
    "\n",
    "    def sigmoid(self, z):\n",
    "        return 1 / (1 + np.exp(-z))\n",
    "\n",
    "    def cross_entropy_loss(self, y_label, y_predict):\n",
    "        epsilon = 1e-15\n",
    "        y_predict = np.clip(y_predict, epsilon, 1 - epsilon)\n",
    "        positive_loss = y_label * np.log(y_predict)\n",
    "        negative_loss = (1 - y_label) * np.log(1 - y_predict)\n",
    "        log_loss = positive_loss + negative_loss\n",
    "        result = -np.mean(log_loss)\n",
    "        return result\n",
    "\n",
    "    \n",
    "    def fit(self, x, y):       \n",
    "        num_samples, num_features = x.shape\n",
    "        self.features = num_features + 1\n",
    "        self.weights = np.ones(self.features, dtype=float)\n",
    "        self.loss_history = []\n",
    "\n",
    "        x_bias = np.concatenate((x.to_numpy(), np.ones((num_samples, 1))), axis=1)\n",
    "\n",
    "        for epoch in range(self.epochs):\n",
    "            predictions = self.calculate_predictions(x_bias)\n",
    "            gradients = np.zeros(self.features, dtype=float)\n",
    "\n",
    "            for feature_index in range(self.features):\n",
    "                errors = (predictions - y) * x_bias[:, feature_index]\n",
    "                gradients[feature_index] = np.sum(errors)\n",
    "            \n",
    "            self.weights -= self.learning_rate * gradients\n",
    "            error = self.cross_entropy_loss(y, predictions)\n",
    "            self.loss_history.append(error)\n",
    "\n",
    "        return self.loss_history\n",
    "\n",
    "    def calculate_predictions(self, x):\n",
    "        thetas_transpose = self.weights.reshape(-1, 1)  \n",
    "        dot_product = np.dot(x, thetas_transpose)  \n",
    "        dot_product_flattened = dot_product.flatten()  \n",
    "        sigmoid_values = []\n",
    "        for value in dot_product_flattened:\n",
    "            sigmoid_value = self.sigmoid(value)\n",
    "            sigmoid_values.append(sigmoid_value)  \n",
    "        return np.array(sigmoid_values)  \n",
    "\n",
    "    def predict(self, x):\n",
    "        bias_column = np.ones((x.shape[0], 1))\n",
    "        x_with_bias = np.concatenate((x, bias_column), axis=1)\n",
    "        dot_product = np.dot(x_with_bias, self.weights)\n",
    "        y_predicted = self.sigmoid(dot_product)\n",
    "        predicted_labels = (y_predicted >= 0.5).astype(int)\n",
    "        return predicted_labels, y_predicted\n",
    "\n",
    "\n",
    "    def evaluate(self, y_label, y_predicted):\n",
    "        accuracy = accuracy_score(y_label, y_predicted)\n",
    "        f1 = f1_score(y_label, y_predicted)\n",
    "        conf_matrix = confusion_matrix(y_label, y_predicted)\n",
    "        return(accuracy, f1, conf_matrix)\n"
   ]
  },
  {
   "cell_type": "markdown",
   "id": "6b787df1",
   "metadata": {
    "id": "6b787df1"
   },
   "source": [
    "## Implement One vs All Classification  \n",
    "\n",
    "We will build four classifiers, one for each class, and perform the following steps for each:\n",
    "\n",
    "1. Create a plot with the number of iterations/epochs on the x-axis and training/validation loss on the y-axis for the evaluation dataset that we separated previously.\n",
    "\n",
    "2. Tune the hyperparameters, i.e., learning rate and number of epochs, to minimize the validation loss.\n",
    "\n"
   ]
  },
  {
   "cell_type": "code",
   "execution_count": 22,
   "id": "2c55a386",
   "metadata": {
    "id": "2c55a386",
    "scrolled": true
   },
   "outputs": [
    {
     "name": "stdout",
     "output_type": "stream",
     "text": [
      "\n",
      "Evaluation Metrics for Class 0\n",
      "------------------------------\n",
      "Class 0 - Final Loss: 0.1060\n",
      "Accuracy       : 96.00%\n",
      "F1 Score       : 0.9365\n",
      "Confusion Matrix:\n",
      "[[133   6]\n",
      " [  2  59]]\n",
      "------------------------------\n",
      "\n",
      "Evaluation Metrics for Class 1\n",
      "------------------------------\n",
      "Class 1 - Final Loss: 0.6156\n",
      "Accuracy       : 62.00%\n",
      "F1 Score       : 0.0000\n",
      "Confusion Matrix:\n",
      "[[124   0]\n",
      " [ 76   0]]\n",
      "------------------------------\n",
      "\n",
      "Evaluation Metrics for Class 2\n",
      "------------------------------\n",
      "Class 2 - Final Loss: 0.1067\n",
      "Accuracy       : 95.00%\n",
      "F1 Score       : 0.9219\n",
      "Confusion Matrix:\n",
      "[[131   6]\n",
      " [  4  59]]\n",
      "------------------------------\n"
     ]
    },
    {
     "data": {
      "image/png": "[encoded data removed]",
      "text/plain": [
       "<Figure size 1800x600 with 3 Axes>"
      ]
     },
     "metadata": {},
     "output_type": "display_data"
    }
   ],
   "source": [
    "\n",
    "\n",
    "epoch = 500\n",
    "classifiers = {}\n",
    "losses = {} \n",
    "metrics = {\"accuracy\": [], \"f1_score\": [], \"confusion_matrix\": []}\n",
    "\n",
    "def plot_loss_curve(epochs, loss_values, ax, label_index):\n",
    "    ax.plot(range(epochs), loss_values, label=f'Classifier {label_index}')\n",
    "    ax.set_xlabel('Epochs')\n",
    "    ax.set_ylabel('Loss')\n",
    "    ax.set_title(f'Loss Curve for Classifier {label_index}')\n",
    "    ax.legend()\n",
    "\n",
    "fig, axes = plt.subplots(1, 3, figsize=(18, 6))\n",
    "\n",
    "for i in range(3):\n",
    "    binary_labels = (y_train == i).astype(int)  \n",
    "    classifiers[i] = Logistic_Regression(learning_rate=0.001, epochs=epoch)  \n",
    "\n",
    "    epoch_losses = classifiers[i].fit(x_train_normalised, binary_labels)  \n",
    "    losses[i] = epoch_losses  \n",
    "\n",
    "    predictions, _ = classifiers[i].predict(x_test_normalised)\n",
    "    test_label = (y_test == i).astype(int)\n",
    "    evaluation_results = classifiers[i].evaluate(test_label, predictions)\n",
    "\n",
    "    metrics[\"accuracy\"].append(evaluation_results[0])\n",
    "    metrics[\"f1_score\"].append(evaluation_results[1])\n",
    "    metrics[\"confusion_matrix\"].append(evaluation_results[2])\n",
    "\n",
    "    plot_loss_curve(epoch, losses[i], axes[i], i)\n",
    "\n",
    "    \n",
    "    print(f\"\\nEvaluation Metrics for Class {i}\")\n",
    "    print(\"-\" * 30)\n",
    "    print(f\"Class {i} - Final Loss: {losses[i][-1]:.4f}\")\n",
    "    print(f\"Accuracy       : {metrics['accuracy'][i]:.2%}\")\n",
    "    print(f\"F1 Score       : {metrics['f1_score'][i]:.4f}\")\n",
    "    print(\"Confusion Matrix:\")\n",
    "    print(metrics['confusion_matrix'][i])\n",
    "    print(\"-\" * 30)\n",
    "    \n",
    "    \n",
    "\n",
    "plt.tight_layout()\n",
    "plt.show()\n",
    "\n",
    "\n"
   ]
  },
  {
   "cell_type": "markdown",
   "id": "f434bf54",
   "metadata": {
    "id": "f434bf54"
   },
   "source": [
    "## Evaluate \n",
    "\n",
    "It's time to run the logistic regression model on the test dataset!\n",
    "\n",
    "- Reporting the accuracy, F1 score and confusion matrix for each binary classifier \n",
    "- Performing multiclass evaluation and reporting macro F1, accuracy and confusion matrix \n"
   ]
  },
  {
   "cell_type": "code",
   "execution_count": 23,
   "id": "4b2d1d5a",
   "metadata": {
    "id": "4b2d1d5a"
   },
   "outputs": [],
   "source": [
    "# Evaluate each binary classifier\n",
    "\n",
    "results = {\n",
    "    'Class': [],\n",
    "    'Probs':[],\n",
    "    'Accuracy': [],\n",
    "    'F1 Score': [],\n",
    "    'Confusion Matrix': []\n",
    "}\n",
    "\n",
    "for i in range(3):\n",
    "    binary_labels = (y_test == i).astype(int)  \n",
    "    predicted_class, probability = classifiers[i].predict(x_test_normalised)  \n",
    "\n",
    "    evaluation_results = classifiers[i].evaluate(binary_labels, predicted_class)\n",
    "    accuracy = evaluation_results[0]\n",
    "    f1 = evaluation_results[1]\n",
    "    cm = evaluation_results[2]\n",
    "\n",
    "    results['Class'].append(i)\n",
    "    results['Probs'].append(probability)\n",
    "    results['Accuracy'].append(accuracy)\n",
    "    results['F1 Score'].append(f1)\n",
    "    results['Confusion Matrix'].append(cm)\n",
    "\n",
    "results_df = pd.DataFrame(results)"
   ]
  },
  {
   "cell_type": "code",
   "execution_count": 24,
   "id": "c39a4178-add4-4489-a483-32b16ae8818d",
   "metadata": {},
   "outputs": [
    {
     "data": {
      "text/html": [
       "<div>\n",
       "<style scoped>\n",
       "    .dataframe tbody tr th:only-of-type {\n",
       "        vertical-align: middle;\n",
       "    }\n",
       "\n",
       "    .dataframe tbody tr th {\n",
       "        vertical-align: top;\n",
       "    }\n",
       "\n",
       "    .dataframe thead th {\n",
       "        text-align: right;\n",
       "    }\n",
       "</style>\n",
       "<table border=\"1\" class=\"dataframe\">\n",
       "  <thead>\n",
       "    <tr style=\"text-align: right;\">\n",
       "      <th></th>\n",
       "      <th>Class</th>\n",
       "      <th>Accuracy</th>\n",
       "      <th>F1 Score</th>\n",
       "      <th>Confusion Matrix</th>\n",
       "    </tr>\n",
       "  </thead>\n",
       "  <tbody>\n",
       "    <tr>\n",
       "      <th>0</th>\n",
       "      <td>0</td>\n",
       "      <td>0.96</td>\n",
       "      <td>0.936508</td>\n",
       "      <td>[[133, 6], [2, 59]]</td>\n",
       "    </tr>\n",
       "    <tr>\n",
       "      <th>1</th>\n",
       "      <td>1</td>\n",
       "      <td>0.62</td>\n",
       "      <td>0.000000</td>\n",
       "      <td>[[124, 0], [76, 0]]</td>\n",
       "    </tr>\n",
       "    <tr>\n",
       "      <th>2</th>\n",
       "      <td>2</td>\n",
       "      <td>0.95</td>\n",
       "      <td>0.921875</td>\n",
       "      <td>[[131, 6], [4, 59]]</td>\n",
       "    </tr>\n",
       "  </tbody>\n",
       "</table>\n",
       "</div>"
      ],
      "text/plain": [
       "   Class  Accuracy  F1 Score     Confusion Matrix\n",
       "0      0      0.96  0.936508  [[133, 6], [2, 59]]\n",
       "1      1      0.62  0.000000  [[124, 0], [76, 0]]\n",
       "2      2      0.95  0.921875  [[131, 6], [4, 59]]"
      ]
     },
     "execution_count": 24,
     "metadata": {},
     "output_type": "execute_result"
    }
   ],
   "source": [
    "results_df.drop('Probs',axis=1)"
   ]
  },
  {
   "cell_type": "code",
   "execution_count": 25,
   "id": "aa5bd139-e747-492b-89fc-0e635a939f2c",
   "metadata": {},
   "outputs": [],
   "source": [
    "# Multi class evaluations.\n",
    "# Combine the probabilites of the classifiers calculated above and assign label of the classifier having the highest probability\n",
    "class_labels = ['Class 0: Most Likely Human', \n",
    "                'Class 1: Further Testing', \n",
    "                'Class 2: Most Likely Zombie']\n",
    "\n",
    "r = results['Probs']\n",
    "probabilities = np.array(r).T  \n",
    "predictions = np.argmax(probabilities, axis=1).tolist()"
   ]
  },
  {
   "cell_type": "code",
   "execution_count": 26,
   "id": "bc12664e-422d-4125-9c68-c90a644603bf",
   "metadata": {},
   "outputs": [
    {
     "name": "stdout",
     "output_type": "stream",
     "text": [
      "Accuracy: 0.895\n",
      "F1 Score: 0.8957013158272421\n"
     ]
    },
    {
     "data": {
      "image/png": "[encoded data removed]",
      "text/plain": [
       "<Figure size 800x600 with 2 Axes>"
      ]
     },
     "metadata": {},
     "output_type": "display_data"
    }
   ],
   "source": [
    "# Calculate the macro f1, accuracy and confusion matrix for multiclass classification\n",
    "\n",
    "accuracy = np.mean(y_test == np.array(predictions))\n",
    "print('Accuracy:', accuracy)\n",
    "\n",
    "f1_macro = f1_score(y_test, np.array(predictions), average='macro')\n",
    "print(\"F1 Score:\", f1_macro)\n",
    "\n",
    "conf_matrix = confusion_matrix(y_test, np.array(predictions))\n",
    "\n",
    "# Plotting the confusion matrix using seaborn\n",
    "plt.figure(figsize=(8, 6))\n",
    "sns.heatmap(conf_matrix, annot=True, fmt='d', cmap='Greens')\n",
    "plt.xlabel('Predicted Labels')\n",
    "plt.ylabel('True Labels')\n",
    "plt.title('Confusion Matrix')\n",
    "plt.show()\n"
   ]
  },
  {
   "cell_type": "markdown",
   "id": "dc1f0697",
   "metadata": {
    "id": "dc1f0697"
   },
   "source": [
    "## Part B: Using Scikit-learn  \n",
    "\n",
    "In this part, we use scikit-learn’s [Logistic Regression] implementation to train and test the logistic regression on the provided dataset."
   ]
  },
  {
   "cell_type": "code",
   "execution_count": 27,
   "id": "c7893b68",
   "metadata": {
    "id": "c7893b68"
   },
   "outputs": [
    {
     "name": "stdout",
     "output_type": "stream",
     "text": [
      "Accuracy: 91.00%\n",
      "F1 Score: 0.91\n"
     ]
    },
    {
     "data": {
      "image/png": "[encoded data removed]",
      "text/plain": [
       "<Figure size 800x600 with 1 Axes>"
      ]
     },
     "metadata": {},
     "output_type": "display_data"
    }
   ],
   "source": [
    "from sklearn.linear_model import LogisticRegression\n",
    "\n",
    "log_reg = LogisticRegression(random_state=42, max_iter=1000)  # Adjust max_iter if needed\n",
    "\n",
    "log_reg.fit(x_train_normalised, y_train)\n",
    "\n",
    "y_pred = log_reg.predict(x_test_normalised)\n",
    "\n",
    "accuracy = accuracy_score(y_test, y_pred)\n",
    "f1 = f1_score(y_test, y_pred, average='weighted')  # Using weighted average to handle class imbalance\n",
    "\n",
    "print(f\"Accuracy: {accuracy * 100:.2f}%\")\n",
    "print(f\"F1 Score: {f1:.2f}\")\n",
    "\n",
    "conf_matrix = confusion_matrix(y_test, y_pred)\n",
    "\n",
    "plt.figure(figsize=(8, 6))\n",
    "sns.heatmap(conf_matrix, annot=True, fmt='d', cmap='Greens', cbar=False,\n",
    "            xticklabels=labels,\n",
    "            yticklabels=labels)\n",
    "\n",
    "plt.title('Confusion Matrix')\n",
    "plt.xlabel('Predicted')\n",
    "plt.ylabel('Actual')\n",
    "plt.show()"
   ]
  },
  {
   "cell_type": "markdown",
   "id": "b01b1669-f564-4393-9a9d-1a563aa62e35",
   "metadata": {},
   "source": [
    "## Part C: Am I a Zombie? \n",
    "Using my multiclass classifier to predict whether I am a zombie."
   ]
  },
  {
   "cell_type": "code",
   "execution_count": 28,
   "id": "33d64233-9b57-4995-8e00-220a75d4dac9",
   "metadata": {},
   "outputs": [],
   "source": [
    "\n",
    "height = 172              # Height in cm\n",
    "weight = 80              # Weight in kg\n",
    "screen_time = 6         # Screen time in hours per day\n",
    "junk_food_days = 1      # Junk food consumption in days per week\n",
    "physical_activity = 3    # Physical activity in hours per week\n",
    "task_completion = 7     # Task completion on a scale (example range: 1-10)"
   ]
  },
  {
   "cell_type": "code",
   "execution_count": 29,
   "id": "79ba3c22-e1e5-460f-b3c4-6ad578a8eae9",
   "metadata": {},
   "outputs": [],
   "source": [
    "test_point = np.array([height, weight, screen_time, junk_food_days, physical_activity, task_completion])\n",
    "test_point = scaler.transform(test_point)  # transform using your standard scaler instance"
   ]
  },
  {
   "cell_type": "code",
   "execution_count": 30,
   "id": "3c1379e7-1cfd-4b08-9c81-8698bb0aebab",
   "metadata": {},
   "outputs": [
    {
     "name": "stdout",
     "output_type": "stream",
     "text": [
      "Prediction: Human\n"
     ]
    }
   ],
   "source": [
    "\n",
    "labels = {0: \"Human\", 1: \"Needs Further Testing\", 2: \"Zombie\"}\n",
    "probs=[] \n",
    "for i in range(3):  \n",
    "    y_pred_class, prob = classifiers[i].predict(np.array(test_point).reshape(1, -1))    \n",
    "    probs.append(prob)\n",
    "combined_probs = np.column_stack([p for p in probs])\n",
    "multi_class_pred = np.argmax(combined_probs, axis=1)\n",
    "print(\"Prediction:\", labels[multi_class_pred[0]])"
   ]
  }
 ],
 "metadata": {
  "colab": {
   "provenance": []
  },
  "kernelspec": {
   "display_name": "Python 3",
   "language": "python",
   "name": "python3"
  },
  "language_info": {
   "codemirror_mode": {
    "name": "ipython",
    "version": 3
   },
   "file_extension": ".py",
   "mimetype": "text/x-python",
   "name": "python",
   "nbconvert_exporter": "python",
   "pygments_lexer": "ipython3",
   "version": "3.12.6"
  }
 },
 "nbformat": 4,
 "nbformat_minor": 5
}
